{
 "cells": [
  {
   "cell_type": "code",
   "execution_count": 4,
   "metadata": {},
   "outputs": [],
   "source": [
    "\n",
    "from collections import namedtuple\n",
    "from faker import Faker\n",
    "import datetime\n",
    "from time import perf_counter\n",
    "from functools import wraps\n",
    "import re\n",
    "import random\n",
    "import string\n",
    "\n",
    "from datetime import date\n"
   ]
  },
  {
   "cell_type": "code",
   "execution_count": 5,
   "metadata": {},
   "outputs": [
    {
     "data": {
      "text/plain": [
       "{'job': 'Conservator, museum/gallery',\n",
       " 'company': 'Sanchez, Yu and Montoya',\n",
       " 'ssn': '058-64-1769',\n",
       " 'residence': '313 Hernandez Parks\\nSeanside, ND 77893',\n",
       " 'current_location': (Decimal('10.007917'), Decimal('142.268462')),\n",
       " 'blood_group': 'B+',\n",
       " 'website': ['https://www.gray.net/', 'http://www.taylor.com/'],\n",
       " 'username': 'david77',\n",
       " 'name': 'Kevin Bell',\n",
       " 'sex': 'M',\n",
       " 'address': '745 Weaver Points Apt. 836\\nBrowningborough, NE 14580',\n",
       " 'mail': 'michael82@gmail.com',\n",
       " 'birthdate': datetime.date(2003, 3, 16)}"
      ]
     },
     "execution_count": 5,
     "metadata": {},
     "output_type": "execute_result"
    }
   ],
   "source": [
    "fake = Faker()\n",
    "fake.profile()"
   ]
  },
  {
   "cell_type": "code",
   "execution_count": 73,
   "metadata": {},
   "outputs": [],
   "source": [
    "Profile = namedtuple('Profile', fake.profile().keys())"
   ]
  },
  {
   "cell_type": "code",
   "execution_count": 26,
   "metadata": {},
   "outputs": [
    {
     "data": {
      "text/plain": [
       "['__add__',\n",
       " '__class__',\n",
       " '__contains__',\n",
       " '__delattr__',\n",
       " '__dir__',\n",
       " '__doc__',\n",
       " '__eq__',\n",
       " '__format__',\n",
       " '__ge__',\n",
       " '__getattribute__',\n",
       " '__getitem__',\n",
       " '__getnewargs__',\n",
       " '__gt__',\n",
       " '__hash__',\n",
       " '__init__',\n",
       " '__init_subclass__',\n",
       " '__iter__',\n",
       " '__le__',\n",
       " '__len__',\n",
       " '__lt__',\n",
       " '__module__',\n",
       " '__mul__',\n",
       " '__ne__',\n",
       " '__new__',\n",
       " '__reduce__',\n",
       " '__reduce_ex__',\n",
       " '__repr__',\n",
       " '__rmul__',\n",
       " '__setattr__',\n",
       " '__sizeof__',\n",
       " '__slots__',\n",
       " '__str__',\n",
       " '__subclasshook__',\n",
       " '_asdict',\n",
       " '_fields',\n",
       " '_make',\n",
       " '_replace',\n",
       " '_source',\n",
       " 'address',\n",
       " 'birthdate',\n",
       " 'blood_group',\n",
       " 'company',\n",
       " 'count',\n",
       " 'current_location',\n",
       " 'index',\n",
       " 'job',\n",
       " 'mail',\n",
       " 'name',\n",
       " 'residence',\n",
       " 'sex',\n",
       " 'ssn',\n",
       " 'username',\n",
       " 'website']"
      ]
     },
     "execution_count": 26,
     "metadata": {},
     "output_type": "execute_result"
    }
   ],
   "source": [
    "#list of functions present in Profile\n",
    "dir(Profile)"
   ]
  },
  {
   "cell_type": "code",
   "execution_count": 74,
   "metadata": {},
   "outputs": [
    {
     "data": {
      "text/plain": [
       "('job',\n",
       " 'company',\n",
       " 'ssn',\n",
       " 'residence',\n",
       " 'current_location',\n",
       " 'blood_group',\n",
       " 'website',\n",
       " 'username',\n",
       " 'name',\n",
       " 'sex',\n",
       " 'address',\n",
       " 'mail',\n",
       " 'birthdate')"
      ]
     },
     "execution_count": 74,
     "metadata": {},
     "output_type": "execute_result"
    }
   ],
   "source": [
    "Profile._fields"
   ]
  },
  {
   "cell_type": "code",
   "execution_count": 75,
   "metadata": {},
   "outputs": [],
   "source": [
    "#Example for Storing data in namedtuple\n",
    "pt = Profile(**fake.profile())"
   ]
  },
  {
   "cell_type": "code",
   "execution_count": 76,
   "metadata": {},
   "outputs": [
    {
     "data": {
      "text/plain": [
       "Profile(job='Furniture conservator/restorer', company='Clark, Wong and Smith', ssn='138-22-9396', residence='841 Mitchell Harbors\\nEast Lauraport, MA 32077', current_location=(Decimal('73.984899'), Decimal('-58.173988')), blood_group='O+', website=['https://www.jones.com/', 'http://abbott-yoder.com/'], username='dsmith', name='Michelle Carter MD', sex='F', address='741 Chelsea Dale Suite 857\\nWest Debra, IA 74397', mail='marcus19@yahoo.com', birthdate=datetime.date(1964, 1, 14))"
      ]
     },
     "execution_count": 76,
     "metadata": {},
     "output_type": "execute_result"
    }
   ],
   "source": [
    "pt"
   ]
  },
  {
   "cell_type": "code",
   "execution_count": 51,
   "metadata": {},
   "outputs": [],
   "source": [
    "def timed(fn: \"Function\"):\n",
    "    \"\"\"\n",
    "    Decorator to calculate run time of a function.\n",
    "    \"\"\"\n",
    "    @wraps(fn)\n",
    "    def inner(*args, **kwargs) -> \"Function Output\":\n",
    "        \"\"\"\n",
    "        Inner function to calculate the time.\n",
    "        \"\"\"\n",
    "        start = perf_counter()\n",
    "        result = fn(*args, **kwargs)\n",
    "        end = perf_counter()\n",
    "        time_elapsed = (end - start)\n",
    "        print('Run time: {0:.6f}s'.format(time_elapsed))\n",
    "        return result\n",
    "    return inner"
   ]
  },
  {
   "cell_type": "code",
   "execution_count": 46,
   "metadata": {},
   "outputs": [],
   "source": [
    "def generate_profiles_using_namedtuple(no_profiles: int):\n",
    "    \"\"\"\n",
    "   To create a fake profiles of given number of people using namedtuples\n",
    "\n",
    "\n",
    "    \"\"\"\n",
    "    profiles = []\n",
    "    Profile = namedtuple('Profile', fake.profile().keys())\n",
    "    for _ in range(no_profiles):\n",
    "        profiles.append(Profile(**fake.profile()))\n",
    "    return profiles"
   ]
  },
  {
   "cell_type": "code",
   "execution_count": 39,
   "metadata": {},
   "outputs": [],
   "source": [
    "def generate_profiles_using_dictionary(no_profiles: int):\n",
    "    \"\"\"\n",
    "     To create a fake profiles of given number of people using dictornary\n",
    "     \n",
    "     \"\"\"\n",
    "    profiles = []\n",
    "    for _ in range(no_profiles):\n",
    "        profiles.append(fake.profile())\n",
    "    return profiles"
   ]
  },
  {
   "cell_type": "code",
   "execution_count": 67,
   "metadata": {},
   "outputs": [
    {
     "data": {
      "text/plain": [
       "[{'job': 'Barista',\n",
       "  'company': 'Davis LLC',\n",
       "  'ssn': '250-59-5739',\n",
       "  'residence': '8414 Dwayne Skyway\\nRoachton, NC 68338',\n",
       "  'current_location': (Decimal('-10.4998695'), Decimal('-34.651212')),\n",
       "  'blood_group': 'O-',\n",
       "  'website': ['http://white.com/'],\n",
       "  'username': 'jeremy19',\n",
       "  'name': 'Christine Ball',\n",
       "  'sex': 'F',\n",
       "  'address': '9593 Janet Spurs Apt. 031\\nLake Antoniofurt, CO 51771',\n",
       "  'mail': 'joy31@hotmail.com',\n",
       "  'birthdate': datetime.date(1918, 12, 11)}]"
      ]
     },
     "execution_count": 67,
     "metadata": {},
     "output_type": "execute_result"
    }
   ],
   "source": [
    "generate_profiles_using_dictionary(1)"
   ]
  },
  {
   "cell_type": "code",
   "execution_count": 78,
   "metadata": {},
   "outputs": [],
   "source": [
    "@timed\n",
    "def calc_data_using_namedtuple() -> \"namedtuple\":\n",
    "    \"\"\"\n",
    "    calculate the largest blood type, mean-current_location, \n",
    "    oldest_person_age and average age of a generated 1000 profiles using namedtuple\n",
    "    \"\"\"\n",
    "    no_profiles = 10000\n",
    "    profiles = generate_profiles_using_namedtuple(no_profiles)\n",
    "    date_today = datetime.date.today()\n",
    "    blood_gp = dict()\n",
    "    max_age = {'age': 0, 'profile': None}\n",
    "    cur_loc_coord_sum = [0, 0]\n",
    "    sum_ages = 0\n",
    "    for profile in profiles:\n",
    "        blood_gp[profile.blood_group] = blood_gp.get(profile.blood_group,0) + 1\n",
    "        age = (date_today - profile.birthdate).days\n",
    "        if  age > max_age['age']:\n",
    "            max_age['age'] = age\n",
    "            max_age['profile'] = profile\n",
    "        cur_loc_coord_sum[0] += profile.current_location[0]\n",
    "        cur_loc_coord_sum[1] += profile.current_location[1]\n",
    "        sum_ages += int(age/365)\n",
    "\n",
    "    data = namedtuple('data', 'largest_blood_type mean_current_location oldest_person average_age')\n",
    "    bg_l = max(blood_gp, key=blood_gp.get)\n",
    "    mean_current_location = (cur_loc_coord_sum[0]/no_profiles, cur_loc_coord_sum[1]/no_profiles)\n",
    "    return data((bg_l, blood_gp[bg_l]), mean_current_location, (max_age['profile'], int(max_age['age']/365)), int(sum_ages/no_profiles))"
   ]
  },
  {
   "cell_type": "code",
   "execution_count": 83,
   "metadata": {},
   "outputs": [
    {
     "name": "stdout",
     "output_type": "stream",
     "text": [
      "Run time: 50.176331s\n"
     ]
    },
    {
     "data": {
      "text/plain": [
       "data(largest_blood_type=('B+', 1313), mean_current_location=(Decimal('0.34840425485'), Decimal('0.657426092')), oldest_person=(Profile(job='Development worker, community', company='Willis Group', ssn='467-09-6323', residence='221 Fernando Isle\\nEast Martin, SC 32083', current_location=(Decimal('15.0907605'), Decimal('110.490004')), blood_group='A-', website=['https://www.andrade.com/', 'https://www.hill.info/', 'http://www.noble-andrade.biz/'], username='danielle23', name='Michelle Thompson', sex='F', address='81842 Reid Common\\nTonichester, WY 57477', mail='riverajohnny@yahoo.com', birthdate=datetime.date(1904, 10, 1)), 116), average_age=58)"
      ]
     },
     "execution_count": 83,
     "metadata": {},
     "output_type": "execute_result"
    }
   ],
   "source": [
    "# Using namedtuple, calculate the largest blood type,\n",
    "# mean-current_location, oldest_person_age and average age (add proper doc-strings)\n",
    "\n",
    "calc_data_using_namedtuple()"
   ]
  },
  {
   "cell_type": "code",
   "execution_count": 84,
   "metadata": {},
   "outputs": [],
   "source": [
    "@timed\n",
    "def calc_data_using_dictionary() -> \"Dictionary\":\n",
    "    \"\"\"\n",
    "    calculate the largest blood type, mean-current_location, \n",
    "    oldest_person_age and average age of a generated 1000 profiles using dictionary\n",
    "    \n",
    "    \"\"\"\n",
    "    no_profiles = 10000\n",
    "    profiles = generate_profiles_using_dictionary(no_profiles)\n",
    "    date_today = datetime.date.today()\n",
    "    blood_gp = dict()\n",
    "    max_age = {'age': 0, 'proflie': None}\n",
    "    cur_loc_coord_sum = [0, 0]\n",
    "    sum_ages = 0\n",
    "    for profile in profiles:\n",
    "        \n",
    "        blood_gp[profile['blood_group']] = blood_gp.get(profile['blood_group'],0) + 1\n",
    "        age = (date_today - profile['birthdate']).days\n",
    "        if  age > max_age['age']:\n",
    "            max_age['age'] = age\n",
    "            max_age['profile'] = profile\n",
    "        cur_loc_coord_sum[0] += profile['current_location'][0]\n",
    "        cur_loc_coord_sum[1] += profile['current_location'][1]\n",
    "        sum_ages += int(age/365)\n",
    "    bg_l = max(blood_gp, key=blood_gp.get)\n",
    "    mean_current_location = (cur_loc_coord_sum[0]/no_profiles, cur_loc_coord_sum[1]/no_profiles)\n",
    "    return {'largest_blood_type': (bg_l, blood_gp[bg_l]), 'mean_current_location': mean_current_location, 'oldest_person': (max_age['profile'], int(max_age['age']/365)), 'average_age': int(sum_ages/no_profiles)}\n"
   ]
  },
  {
   "cell_type": "code",
   "execution_count": 85,
   "metadata": {},
   "outputs": [
    {
     "name": "stdout",
     "output_type": "stream",
     "text": [
      "Run time: 52.379762s\n"
     ]
    },
    {
     "data": {
      "text/plain": [
       "{'largest_blood_type': ('A-', 1294),\n",
       " 'mean_current_location': (Decimal('0.74582119425'), Decimal('2.2490839835')),\n",
       " 'oldest_person': ({'job': 'Designer, ceramics/pottery',\n",
       "   'company': 'Walker-Taylor',\n",
       "   'ssn': '093-47-1100',\n",
       "   'residence': 'USNS Woodard\\nFPO AE 31791',\n",
       "   'current_location': (Decimal('49.240697'), Decimal('75.419747')),\n",
       "   'blood_group': 'O-',\n",
       "   'website': ['https://www.hall.com/', 'http://bryant.info/'],\n",
       "   'username': 'mathisadrian',\n",
       "   'name': 'Samantha Perez',\n",
       "   'sex': 'F',\n",
       "   'address': '6458 Douglas Plains\\nLake Steveland, UT 42068',\n",
       "   'mail': 'anna81@yahoo.com',\n",
       "   'birthdate': datetime.date(1904, 10, 1)},\n",
       "  116),\n",
       " 'average_age': 57}"
      ]
     },
     "execution_count": 85,
     "metadata": {},
     "output_type": "execute_result"
    }
   ],
   "source": [
    "calc_data_using_dictionary()"
   ]
  },
  {
   "cell_type": "code",
   "execution_count": 8,
   "metadata": {},
   "outputs": [
    {
     "name": "stdout",
     "output_type": "stream",
     "text": [
      "\n",
      "------------------------------------Top 100 listed companies on TSAI Stock Exchange------------------------------------\n",
      "Stocks(name='Allen, Graham and Bennett', symbol='AGB', open=577.9, high=774.39, close=586.04, company_weight=78.25)\n",
      "Stocks(name='Alvarado Inc', symbol='AI', open=1481.97, high=1481.97, close=1475.0, company_weight=31.951)\n",
      "Stocks(name='Anderson Inc', symbol='AI', open=1036.73, high=1036.73, close=1031.93, company_weight=65.367)\n",
      "Stocks(name='Anderson-Johnson', symbol='AJ', open=475.34, high=570.41, close=546.0, company_weight=23.199)\n",
      "Stocks(name='Ayala-Wells', symbol='AW', open=2161.08, high=2161.08, close=2159.83, company_weight=44.906)\n",
      "Stocks(name='Burton-Best', symbol='BB', open=3814.99, high=3815.1, close=3815.1, company_weight=42.043)\n",
      "Stocks(name='Brown, Dalton and Hammond', symbol='BDH', open=2157.45, high=2675.24, close=2221.92, company_weight=31.481)\n",
      "Stocks(name='Bentley-Galloway', symbol='BG', open=213.84, high=276.7, close=276.7, company_weight=20.072)\n",
      "Stocks(name='Brown Group', symbol='BG', open=1049.53, high=1322.41, close=1146.68, company_weight=63.025)\n",
      "Stocks(name='Brown, Murray and Pruitt', symbol='BMP', open=489.32, high=650.8, close=511.03, company_weight=74.536)\n",
      "Stocks(name='Becker-Sanchez', symbol='BS', open=1690.29, high=1694.03, close=1694.03, company_weight=28.767)\n",
      "Stocks(name='Browning and Sons', symbol='BS', open=371.89, high=479.74, close=401.81, company_weight=21.661)\n",
      "Stocks(name='Cannon, Craig and Ellis', symbol='CCE', open=3010.59, high=3552.5, close=3049.75, company_weight=26.871)\n",
      "Stocks(name='Cohen, Cooper and Herring', symbol='CCH', open=3959.15, high=3959.15, close=3957.01, company_weight=78.887)\n",
      "Stocks(name='Clayton-Delacruz', symbol='CD', open=3664.25, high=3666.5, close=3666.5, company_weight=77.653)\n",
      "Stocks(name='Collins, English and Bray', symbol='CEB', open=765.55, high=773.01, close=773.01, company_weight=43.263)\n",
      "Stocks(name='Cooley, Gardner and Robinson', symbol='CGR', open=2310.78, high=2772.94, close=2723.7, company_weight=47.445)\n",
      "Stocks(name='Cox-King', symbol='CK', open=3820.15, high=3820.15, close=3815.44, company_weight=32.012)\n",
      "Stocks(name='Conner, Levy and Bailey', symbol='CLB', open=1405.52, high=1413.08, close=1413.08, company_weight=67.807)\n",
      "Stocks(name='Clark, Patel and Johnson', symbol='CPJ', open=98.18, high=105.16, close=105.16, company_weight=39.323)\n",
      "Stocks(name='Chase PLC', symbol='CPLC', open=1740.28, high=1742.7, close=1742.7, company_weight=53.694)\n",
      "Stocks(name='Chapman and Sons', symbol='CS', open=2524.01, high=2525.08, close=2525.08, company_weight=34.906)\n",
      "Stocks(name='Colon, Walker and Jones', symbol='CWJ', open=3941.0, high=4295.69, close=4251.03, company_weight=36.395)\n",
      "Stocks(name='Durham, Brady and Martinez', symbol='DBM', open=1889.69, high=1896.43, close=1896.43, company_weight=47.032)\n",
      "Stocks(name='Dawson, Jackson and Little', symbol='DJL', open=2820.32, high=2820.94, close=2820.94, company_weight=26.229)\n",
      "Stocks(name='Duran-Mason', symbol='DM', open=1752.36, high=1753.98, close=1753.98, company_weight=45.829)\n",
      "Stocks(name='Davis, Obrien and Schmidt', symbol='DOS', open=1091.21, high=1243.98, close=1236.95, company_weight=49.888)\n",
      "Stocks(name='Fuentes-Brown', symbol='FB', open=1358.17, high=1684.13, close=1531.84, company_weight=23.62)\n",
      "Stocks(name='Flowers-Garrett', symbol='FG', open=2763.11, high=2763.11, close=2761.9, company_weight=66.507)\n",
      "Stocks(name='Figueroa Ltd', symbol='FL', open=1972.19, high=2031.36, close=1995.06, company_weight=31.951)\n",
      "Stocks(name='Fields-Pineda', symbol='FP', open=3543.94, high=3650.26, close=3553.79, company_weight=57.36)\n",
      "Stocks(name='Fuller PLC', symbol='FPLC', open=1607.97, high=1688.37, close=1611.42, company_weight=70.665)\n",
      "Stocks(name='Finley-Shannon', symbol='FS', open=1185.96, high=1200.75, close=1200.75, company_weight=53.935)\n",
      "Stocks(name='Gonzalez-Booth', symbol='GB', open=3580.07, high=3584.85, close=3584.85, company_weight=38.195)\n",
      "Stocks(name='Gaines-Collier', symbol='GC', open=3511.9, high=3512.24, close=3512.24, company_weight=44.905)\n",
      "Stocks(name='Goodwin Group', symbol='GG', open=2388.01, high=3008.89, close=2661.06, company_weight=79.103)\n",
      "Stocks(name='Garcia-Hayes', symbol='GH', open=1650.4, high=1650.4, close=1647.42, company_weight=49.782)\n",
      "Stocks(name='Griffith-Mack', symbol='GM', open=2189.71, high=2193.1, close=2193.1, company_weight=38.908)\n",
      "Stocks(name='Gross-Mack', symbol='GM', open=547.91, high=547.91, close=541.08, company_weight=48.451)\n",
      "Stocks(name='Gonzales, Moore and Weeks', symbol='GMW', open=115.21, high=115.21, close=114.31, company_weight=18.48)\n",
      "Stocks(name='Garcia PLC', symbol='GPLC', open=434.35, high=490.82, close=480.31, company_weight=44.857)\n",
      "Stocks(name='Hill, Harrison and Carr', symbol='HHC', open=3558.5, high=3843.18, close=3562.89, company_weight=58.827)\n",
      "Stocks(name='Harrell Inc', symbol='HI', open=3678.18, high=4891.98, close=4142.58, company_weight=33.779)\n",
      "Stocks(name='Hickman-King', symbol='HK', open=952.94, high=1029.18, close=1003.61, company_weight=28.393)\n",
      "Stocks(name='Hopkins LLC', symbol='HLLC', open=3340.13, high=4509.18, close=4292.26, company_weight=47.478)\n",
      "Stocks(name='Hooper LLC', symbol='HLLC', open=1617.39, high=1908.52, close=1696.01, company_weight=62.968)\n",
      "Stocks(name='Hernandez, Meyers and Smith', symbol='HMS', open=1694.56, high=2118.2, close=1806.73, company_weight=75.749)\n",
      "Stocks(name='Huff and Sons', symbol='HS', open=432.19, high=432.19, close=429.66, company_weight=44.729)\n",
      "Stocks(name='Hamilton-Vang', symbol='HV', open=1508.94, high=1512.58, close=1512.58, company_weight=26.031)\n",
      "Stocks(name='Jimenez-Allen', symbol='JA', open=3651.79, high=4455.18, close=3725.06, company_weight=59.877)\n",
      "Stocks(name='Jenkins, Cooley and Hebert', symbol='JCH', open=3456.46, high=4769.91, close=4515.44, company_weight=17.864)\n",
      "Stocks(name='Jennings-Olson', symbol='JO', open=2753.62, high=3139.13, close=3066.54, company_weight=69.301)\n",
      "Stocks(name='Johnston, Washington and Lang', symbol='JWL', open=2025.43, high=2029.43, close=2029.43, company_weight=79.717)\n",
      "Stocks(name='Kennedy, Gardner and Ballard', symbol='KGB', open=2859.42, high=2863.49, close=2863.49, company_weight=39.439)\n",
      "Stocks(name='King and Sons', symbol='KS', open=3221.72, high=3221.72, close=3215.62, company_weight=49.433)\n",
      "Stocks(name='Lin, Mendoza and Nicholson', symbol='LMN', open=3862.98, high=3868.22, close=3868.22, company_weight=65.464)\n",
      "Stocks(name='Larsen and Sons', symbol='LS', open=673.6, high=680.04, close=680.04, company_weight=75.097)\n",
      "Stocks(name='Miller-Armstrong', symbol='MA', open=3478.58, high=3478.58, close=3475.13, company_weight=32.382)\n",
      "Stocks(name='Myers-Chase', symbol='MC', open=3662.94, high=3664.51, close=3664.51, company_weight=15.549)\n",
      "Stocks(name='Mccormick, Carlson and Meadows', symbol='MCM', open=1768.0, high=2121.6, close=1943.3, company_weight=44.417)\n",
      "Stocks(name='Murphy Inc', symbol='MI', open=2533.7, high=3293.81, close=3159.87, company_weight=38.759)\n",
      "Stocks(name='Medina, Mclaughlin and Hunt', symbol='MMH', open=385.03, high=454.34, close=392.24, company_weight=28.598)\n",
      "Stocks(name='Mcmahon, Navarro and Miller', symbol='MNM', open=373.33, high=384.53, close=376.8, company_weight=60.685)\n",
      "Stocks(name='Myers-Rios', symbol='MR', open=493.58, high=493.58, close=486.82, company_weight=22.659)\n",
      "Stocks(name='Nelson-Cook', symbol='NC', open=2352.37, high=2360.67, close=2360.67, company_weight=75.617)\n",
      "Stocks(name='Nolan-Pugh', symbol='NP', open=1238.6, high=1350.07, close=1323.5, company_weight=17.848)\n",
      "Stocks(name='Nelson, Singleton and Hanson', symbol='NSH', open=328.61, high=332.12, close=332.12, company_weight=77.716)\n",
      "Stocks(name='Ortega, Arellano and Harper', symbol='OAH', open=1619.32, high=1862.22, close=1764.92, company_weight=26.774)\n",
      "Stocks(name='Oconnor-Coleman', symbol='OC', open=221.18, high=227.82, close=227.65, company_weight=19.421)\n",
      "Stocks(name='Osborne PLC', symbol='OPLC', open=2326.4, high=2326.4, close=2323.08, company_weight=44.016)\n",
      "Stocks(name='Ochoa-Tran', symbol='OT', open=933.84, high=1055.24, close=1036.64, company_weight=76.139)\n",
      "Stocks(name='Patton-Gutierrez', symbol='PG', open=2899.71, high=2907.43, close=2907.43, company_weight=32.822)\n",
      "Stocks(name='Park Inc', symbol='PI', open=3290.2, high=3586.32, close=3478.17, company_weight=79.267)\n",
      "Stocks(name='Pratt Ltd', symbol='PL', open=3252.54, high=3903.05, close=3874.64, company_weight=19.367)\n",
      "Stocks(name='Palmer-Munoz', symbol='PM', open=1836.61, high=1873.34, close=1857.03, company_weight=26.049)\n",
      "Stocks(name='Rubio Inc', symbol='RI', open=3535.88, high=4278.41, close=3624.39, company_weight=62.874)\n",
      "Stocks(name='Rodriguez, King and Miller', symbol='RKM', open=2482.78, high=2486.55, close=2486.55, company_weight=42.335)\n",
      "Stocks(name='Richardson-Martinez', symbol='RM', open=887.99, high=889.39, close=889.39, company_weight=53.386)\n",
      "Stocks(name='Reeves, Matthews and Figueroa', symbol='RMF', open=52.52, high=52.52, close=49.76, company_weight=36.679)\n",
      "Stocks(name='Rivera, Williams and Lawson', symbol='RWL', open=1416.19, high=1826.89, close=1746.54, company_weight=55.548)\n",
      "Stocks(name='Rojas-Young', symbol='RY', open=617.48, high=617.48, close=607.92, company_weight=75.968)\n",
      "Stocks(name='Salazar Ltd', symbol='SL', open=1947.4, high=2044.77, close=2018.03, company_weight=75.373)\n",
      "Stocks(name='Stevens PLC', symbol='SPLC', open=3773.88, high=3775.59, close=3775.59, company_weight=64.774)\n",
      "Stocks(name='Smith PLC', symbol='SPLC', open=1347.73, high=1355.88, close=1355.88, company_weight=26.53)\n",
      "Stocks(name='Thompson, Bush and Ortiz', symbol='TBO', open=3787.25, high=4506.83, close=4173.32, company_weight=28.43)\n",
      "Stocks(name='Terry, Garcia and Park', symbol='TGP', open=372.89, high=381.76, close=381.76, company_weight=60.42)\n",
      "Stocks(name='Tyler LLC', symbol='TLLC', open=1116.77, high=1507.64, close=1237.91, company_weight=55.314)\n",
      "Stocks(name='Vaughn, Mayo and Fields', symbol='VMF', open=1427.05, high=1427.05, close=1424.56, company_weight=73.095)\n",
      "Stocks(name='Vang-Taylor', symbol='VT', open=1438.35, high=1481.5, close=1437.7, company_weight=57.01)\n",
      "Stocks(name='Wagner, Doyle and Lee', symbol='WDL', open=2330.96, high=2843.77, close=2817.81, company_weight=18.317)\n",
      "Stocks(name='White, Fletcher and Anderson', symbol='WFA', open=3789.43, high=3792.82, close=3792.82, company_weight=26.658)\n",
      "Stocks(name='Wang, Figueroa and Molina', symbol='WFM', open=2981.3, high=3845.88, close=3187.74, company_weight=77.255)\n",
      "Stocks(name='Walker Group', symbol='WG', open=3677.69, high=4966.54, close=4966.54, company_weight=75.081)\n",
      "Stocks(name='White, Garcia and Cook', symbol='WGC', open=2891.49, high=3036.06, close=3032.14, company_weight=79.335)\n",
      "Stocks(name='Woods Ltd', symbol='WL', open=1186.21, high=1189.32, close=1189.32, company_weight=56.246)\n",
      "Stocks(name='Wagner-Roberts', symbol='WR', open=1448.89, high=1463.38, close=1458.2, company_weight=20.307)\n",
      "Stocks(name='Wilson, Rhodes and Ford', symbol='WRF', open=1001.43, high=1001.43, close=993.11, company_weight=22.54)\n",
      "Stocks(name='Winters and Sons', symbol='WS', open=1797.84, high=1815.82, close=1794.86, company_weight=15.981)\n",
      "Stocks(name='Williams, Taylor and Payne', symbol='WTP', open=2084.08, high=2688.46, close=2590.9, company_weight=56.732)\n",
      "Stocks(name='Williams-Watkins', symbol='WW', open=456.26, high=456.26, close=454.69, company_weight=55.845)\n",
      "\n",
      "--------------Main details on 2020-10-01--------------\n",
      "\n",
      "Stock Index: 9482676.4744\n",
      "Highest for the day: 372892.79\n",
      "Lowest close for the day: 1825.15\n"
     ]
    }
   ],
   "source": [
    "def get_capitalized_letters(string):\n",
    "    \"\"\"Returns joined string if characters are upper case\"\"\"\n",
    "    return ''.join(x for x in string if x.isupper())\n",
    "\n",
    "\n",
    "def stock_market():\n",
    "    \"\"\"\n",
    "    To create a fake stock data set for imaginary stock exchange for top 100 companies (name, symbol, open, high, close).\n",
    "    Tasks_ToDo: Assign a random weight to all the companies. Calculate and show what value stock market started at, what was the highest value during the day and where did it end.\n",
    "    \"\"\"\n",
    "    all_companies = []\n",
    "    Stocks = namedtuple(\"Stocks\", 'name symbol open high close company_weight')\n",
    "    for _ in range(100):\n",
    "        name = fake.company()\n",
    "        open_ = round(random.uniform(41, 3999), 2)\n",
    "        high_num = round(random.uniform(0.613, 1.4), 2)  # market is damn volatile\n",
    "        high = open_ * high_num if high_num > 1.0 else open_\n",
    "        close = random.uniform(open_ - random.randint(-10, 10), high + random.randint(-8, 10))\n",
    "        if close > high:\n",
    "            high = close\n",
    "\n",
    "        all_companies.append(\n",
    "            Stocks(name=name, symbol=get_capitalized_letters(name), open=open_, high=round(high, 2), close=round(close, 2), company_weight=round(random.uniform(15, 80), 3)))\n",
    "\n",
    "    stock_index = round(sum(x.open * x.company_weight for x in all_companies), 4)\n",
    "    highest_for_day = round(max(x.high * x.company_weight for x in all_companies), 2)\n",
    "    lowest_close_for_day = round(min(x.close * x.company_weight for x in all_companies), 2)\n",
    "\n",
    "    print(f\"\\n------------------------------------Top 100 listed companies on TSAI Stock Exchange------------------------------------\")\n",
    "    [print(x) for x in sorted(all_companies, key=lambda x:x.symbol)]\n",
    "    print(f\"\\n--------------Main details on {date.today()}--------------\")\n",
    "    print(f\"\\nStock Index: {stock_index}\")\n",
    "    print(f\"Highest for the day: {highest_for_day}\")\n",
    "    print(f\"Lowest close for the day: {lowest_close_for_day}\")\n",
    "\n",
    "\n",
    "stock_market()"
   ]
  },
  {
   "cell_type": "code",
   "execution_count": 7,
   "metadata": {},
   "outputs": [],
   "source": []
  },
  {
   "cell_type": "code",
   "execution_count": null,
   "metadata": {},
   "outputs": [],
   "source": []
  }
 ],
 "metadata": {
  "kernelspec": {
   "display_name": "Python 3",
   "language": "python",
   "name": "python3"
  },
  "language_info": {
   "codemirror_mode": {
    "name": "ipython",
    "version": 3
   },
   "file_extension": ".py",
   "mimetype": "text/x-python",
   "name": "python",
   "nbconvert_exporter": "python",
   "pygments_lexer": "ipython3",
   "version": "3.6.5"
  }
 },
 "nbformat": 4,
 "nbformat_minor": 2
}
